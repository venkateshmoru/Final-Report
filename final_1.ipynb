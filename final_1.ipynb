{
 "cells": [
  {
   "cell_type": "code",
   "execution_count": 112,
   "metadata": {
    "id": "3Bg0wWobYgx8"
   },
   "outputs": [],
   "source": [
    "import pandas as pd\n",
    "import numpy as np\n",
    "import seaborn as sns\n",
    "import matplotlib.pyplot as plt\n",
    "from scipy import stats"
   ]
  },
  {
   "cell_type": "code",
   "execution_count": 113,
   "metadata": {
    "id": "524ff373"
   },
   "outputs": [],
   "source": [
    "from warnings import filterwarnings\n",
    "filterwarnings('ignore')"
   ]
  },
  {
   "cell_type": "markdown",
   "metadata": {
    "id": "a5a134cd"
   },
   "source": [
    "### Reading Data"
   ]
  },
  {
   "cell_type": "code",
   "execution_count": 115,
   "metadata": {
    "id": "7f40cc24"
   },
   "outputs": [],
   "source": [
    "df = pd.read_csv(r\"C:\\Users\\venka\\Downloads\\Hospital_Inpatient_Discharges__SPARCS_De-Identified___2022_20241202.csv\",low_memory=False)"
   ]
  },
  {
   "cell_type": "code",
   "execution_count": 116,
   "metadata": {
    "colab": {
     "base_uri": "https://localhost:8080/"
    },
    "id": "66110ae4",
    "outputId": "0d873d42-91e1-4243-fab3-76e66ef743b9"
   },
   "outputs": [
    {
     "name": "stdout",
     "output_type": "stream",
     "text": [
      "Dataset now contains 2000000 rows and 33 columns.\n"
     ]
    }
   ],
   "source": [
    "# Select only the first 1 million rows\n",
    "df = df.iloc[:2000000]\n",
    "\n",
    "# Verify the number of rows and columns\n",
    "print(f\"Dataset now contains {df.shape[0]} rows and {df.shape[1]} columns.\")\n"
   ]
  },
  {
   "cell_type": "code",
   "execution_count": 117,
   "metadata": {
    "id": "LX_dAbAXifIf"
   },
   "outputs": [],
   "source": [
    "df['Length of Stay'] = df['Length of Stay'].astype(str)\n"
   ]
  },
  {
   "cell_type": "code",
   "execution_count": 118,
   "metadata": {
    "colab": {
     "base_uri": "https://localhost:8080/"
    },
    "id": "ywBFiACOijvv",
    "outputId": "f046d909-8c54-4cc7-adc7-a63f696aba19"
   },
   "outputs": [
    {
     "name": "stdout",
     "output_type": "stream",
     "text": [
      "['3' '1' '2' '4' '6' '17' '8' '11' '5' '13' '7' '21' '49' '31' '9' '120 +'\n",
      " '22' '10' '20' '16' '23' '12' '29' '99' '19' '25' '34' '28' '65' '32'\n",
      " '43' '36' '26' '83' '14' '15' '44' '41' '46' '64' '18' '89' '35' '42'\n",
      " '45' '98' '110' '58' '48' '73' '52' '24' '54' '59' '40' '38' '116' '70'\n",
      " '97' '50' '30' '77' '27' '101' '33' '86' '68' '100' '47' '78' '63' '55'\n",
      " '61' '81' '37' '93' '84' '75' '53' '51' '57' '87' '71' '39' '80' '72'\n",
      " '82' '95' '90' '69' '109' '67' '88' '96' '114' '56' '60' '66' '102' '62'\n",
      " '106' '92' '119' '76' '85' '79' '74' '91' '107' '117' '111' '103' '113'\n",
      " '108' '118' '94' '115' '112' '104' '105']\n"
     ]
    }
   ],
   "source": [
    "# Display unique values in the column\n",
    "print(df['Length of Stay'].unique())\n"
   ]
  },
  {
   "cell_type": "code",
   "execution_count": 119,
   "metadata": {
    "colab": {
     "base_uri": "https://localhost:8080/",
     "height": 724
    },
    "id": "BVapMMhnbV7N",
    "outputId": "23ef75d2-f32e-476f-e487-f635cf8ebd28"
   },
   "outputs": [
    {
     "data": {
      "text/html": [
       "<div>\n",
       "<style scoped>\n",
       "    .dataframe tbody tr th:only-of-type {\n",
       "        vertical-align: middle;\n",
       "    }\n",
       "\n",
       "    .dataframe tbody tr th {\n",
       "        vertical-align: top;\n",
       "    }\n",
       "\n",
       "    .dataframe thead th {\n",
       "        text-align: right;\n",
       "    }\n",
       "</style>\n",
       "<table border=\"1\" class=\"dataframe\">\n",
       "  <thead>\n",
       "    <tr style=\"text-align: right;\">\n",
       "      <th></th>\n",
       "      <th>Hospital Service Area</th>\n",
       "      <th>Hospital County</th>\n",
       "      <th>Operating Certificate Number</th>\n",
       "      <th>Permanent Facility Id</th>\n",
       "      <th>Facility Name</th>\n",
       "      <th>Age Group</th>\n",
       "      <th>Zip Code - 3 digits</th>\n",
       "      <th>Gender</th>\n",
       "      <th>Race</th>\n",
       "      <th>Ethnicity</th>\n",
       "      <th>...</th>\n",
       "      <th>APR Severity of Illness Description</th>\n",
       "      <th>APR Risk of Mortality</th>\n",
       "      <th>APR Medical Surgical Description</th>\n",
       "      <th>Payment Typology 1</th>\n",
       "      <th>Payment Typology 2</th>\n",
       "      <th>Payment Typology 3</th>\n",
       "      <th>Birth Weight</th>\n",
       "      <th>Emergency Department Indicator</th>\n",
       "      <th>Total Charges</th>\n",
       "      <th>Total Costs</th>\n",
       "    </tr>\n",
       "  </thead>\n",
       "  <tbody>\n",
       "    <tr>\n",
       "      <th>0</th>\n",
       "      <td>New York City</td>\n",
       "      <td>Bronx</td>\n",
       "      <td>7000006.0</td>\n",
       "      <td>3058.0</td>\n",
       "      <td>Montefiore Med Center - Jack D Weiler Hosp of ...</td>\n",
       "      <td>50 to 69</td>\n",
       "      <td>107</td>\n",
       "      <td>F</td>\n",
       "      <td>White</td>\n",
       "      <td>Not Span/Hispanic</td>\n",
       "      <td>...</td>\n",
       "      <td>Major</td>\n",
       "      <td>Major</td>\n",
       "      <td>Medical</td>\n",
       "      <td>Medicaid</td>\n",
       "      <td>NaN</td>\n",
       "      <td>NaN</td>\n",
       "      <td>NaN</td>\n",
       "      <td>Y</td>\n",
       "      <td>51,514.62</td>\n",
       "      <td>7,552.54</td>\n",
       "    </tr>\n",
       "    <tr>\n",
       "      <th>1</th>\n",
       "      <td>New York City</td>\n",
       "      <td>Bronx</td>\n",
       "      <td>7000006.0</td>\n",
       "      <td>3058.0</td>\n",
       "      <td>Montefiore Med Center - Jack D Weiler Hosp of ...</td>\n",
       "      <td>18 to 29</td>\n",
       "      <td>104</td>\n",
       "      <td>M</td>\n",
       "      <td>Black/African American</td>\n",
       "      <td>Spanish/Hispanic</td>\n",
       "      <td>...</td>\n",
       "      <td>Moderate</td>\n",
       "      <td>Minor</td>\n",
       "      <td>Medical</td>\n",
       "      <td>Medicaid</td>\n",
       "      <td>NaN</td>\n",
       "      <td>NaN</td>\n",
       "      <td>NaN</td>\n",
       "      <td>Y</td>\n",
       "      <td>25,370.86</td>\n",
       "      <td>3,469.55</td>\n",
       "    </tr>\n",
       "    <tr>\n",
       "      <th>2</th>\n",
       "      <td>New York City</td>\n",
       "      <td>Bronx</td>\n",
       "      <td>7000006.0</td>\n",
       "      <td>3058.0</td>\n",
       "      <td>Montefiore Med Center - Jack D Weiler Hosp of ...</td>\n",
       "      <td>18 to 29</td>\n",
       "      <td>104</td>\n",
       "      <td>F</td>\n",
       "      <td>Other Race</td>\n",
       "      <td>Spanish/Hispanic</td>\n",
       "      <td>...</td>\n",
       "      <td>Minor</td>\n",
       "      <td>Minor</td>\n",
       "      <td>Medical</td>\n",
       "      <td>Medicaid</td>\n",
       "      <td>NaN</td>\n",
       "      <td>NaN</td>\n",
       "      <td>NaN</td>\n",
       "      <td>N</td>\n",
       "      <td>23,876.78</td>\n",
       "      <td>6,180.33</td>\n",
       "    </tr>\n",
       "    <tr>\n",
       "      <th>3</th>\n",
       "      <td>New York City</td>\n",
       "      <td>Bronx</td>\n",
       "      <td>7000006.0</td>\n",
       "      <td>3058.0</td>\n",
       "      <td>Montefiore Med Center - Jack D Weiler Hosp of ...</td>\n",
       "      <td>18 to 29</td>\n",
       "      <td>100</td>\n",
       "      <td>F</td>\n",
       "      <td>Black/African American</td>\n",
       "      <td>Not Span/Hispanic</td>\n",
       "      <td>...</td>\n",
       "      <td>Moderate</td>\n",
       "      <td>Minor</td>\n",
       "      <td>Medical</td>\n",
       "      <td>Medicaid</td>\n",
       "      <td>NaN</td>\n",
       "      <td>NaN</td>\n",
       "      <td>NaN</td>\n",
       "      <td>Y</td>\n",
       "      <td>43,319.05</td>\n",
       "      <td>12,588.93</td>\n",
       "    </tr>\n",
       "    <tr>\n",
       "      <th>4</th>\n",
       "      <td>New York City</td>\n",
       "      <td>Bronx</td>\n",
       "      <td>7000006.0</td>\n",
       "      <td>1168.0</td>\n",
       "      <td>Montefiore Medical Center-Wakefield Hospital</td>\n",
       "      <td>18 to 29</td>\n",
       "      <td>104</td>\n",
       "      <td>M</td>\n",
       "      <td>Other Race</td>\n",
       "      <td>Spanish/Hispanic</td>\n",
       "      <td>...</td>\n",
       "      <td>Moderate</td>\n",
       "      <td>Moderate</td>\n",
       "      <td>Medical</td>\n",
       "      <td>Medicaid</td>\n",
       "      <td>NaN</td>\n",
       "      <td>NaN</td>\n",
       "      <td>NaN</td>\n",
       "      <td>Y</td>\n",
       "      <td>40,266.23</td>\n",
       "      <td>10,355.99</td>\n",
       "    </tr>\n",
       "  </tbody>\n",
       "</table>\n",
       "<p>5 rows × 33 columns</p>\n",
       "</div>"
      ],
      "text/plain": [
       "  Hospital Service Area Hospital County  Operating Certificate Number  \\\n",
       "0         New York City           Bronx                     7000006.0   \n",
       "1         New York City           Bronx                     7000006.0   \n",
       "2         New York City           Bronx                     7000006.0   \n",
       "3         New York City           Bronx                     7000006.0   \n",
       "4         New York City           Bronx                     7000006.0   \n",
       "\n",
       "   Permanent Facility Id                                      Facility Name  \\\n",
       "0                 3058.0  Montefiore Med Center - Jack D Weiler Hosp of ...   \n",
       "1                 3058.0  Montefiore Med Center - Jack D Weiler Hosp of ...   \n",
       "2                 3058.0  Montefiore Med Center - Jack D Weiler Hosp of ...   \n",
       "3                 3058.0  Montefiore Med Center - Jack D Weiler Hosp of ...   \n",
       "4                 1168.0       Montefiore Medical Center-Wakefield Hospital   \n",
       "\n",
       "  Age Group Zip Code - 3 digits Gender                    Race  \\\n",
       "0  50 to 69                 107      F                   White   \n",
       "1  18 to 29                 104      M  Black/African American   \n",
       "2  18 to 29                 104      F              Other Race   \n",
       "3  18 to 29                 100      F  Black/African American   \n",
       "4  18 to 29                 104      M              Other Race   \n",
       "\n",
       "           Ethnicity  ... APR Severity of Illness Description  \\\n",
       "0  Not Span/Hispanic  ...                               Major   \n",
       "1   Spanish/Hispanic  ...                            Moderate   \n",
       "2   Spanish/Hispanic  ...                               Minor   \n",
       "3  Not Span/Hispanic  ...                            Moderate   \n",
       "4   Spanish/Hispanic  ...                            Moderate   \n",
       "\n",
       "  APR Risk of Mortality APR Medical Surgical Description  Payment Typology 1  \\\n",
       "0                 Major                          Medical            Medicaid   \n",
       "1                 Minor                          Medical            Medicaid   \n",
       "2                 Minor                          Medical            Medicaid   \n",
       "3                 Minor                          Medical            Medicaid   \n",
       "4              Moderate                          Medical            Medicaid   \n",
       "\n",
       "  Payment Typology 2 Payment Typology 3 Birth Weight  \\\n",
       "0                NaN                NaN          NaN   \n",
       "1                NaN                NaN          NaN   \n",
       "2                NaN                NaN          NaN   \n",
       "3                NaN                NaN          NaN   \n",
       "4                NaN                NaN          NaN   \n",
       "\n",
       "  Emergency Department Indicator  Total Charges Total Costs  \n",
       "0                              Y      51,514.62    7,552.54  \n",
       "1                              Y      25,370.86    3,469.55  \n",
       "2                              N      23,876.78    6,180.33  \n",
       "3                              Y      43,319.05   12,588.93  \n",
       "4                              Y      40,266.23   10,355.99  \n",
       "\n",
       "[5 rows x 33 columns]"
      ]
     },
     "execution_count": 119,
     "metadata": {},
     "output_type": "execute_result"
    }
   ],
   "source": [
    "df.head()"
   ]
  },
  {
   "cell_type": "markdown",
   "metadata": {
    "id": "482b3a61"
   },
   "source": [
    "\n",
    "#### Data types, Missing values based on number of non-null values"
   ]
  },
  {
   "cell_type": "code",
   "execution_count": 121,
   "metadata": {
    "colab": {
     "base_uri": "https://localhost:8080/"
    },
    "id": "jlMB3CI7bp-W",
    "outputId": "d87435a5-9748-4285-ce55-badb8fa71d59"
   },
   "outputs": [
    {
     "name": "stdout",
     "output_type": "stream",
     "text": [
      "<class 'pandas.core.frame.DataFrame'>\n",
      "RangeIndex: 2000000 entries, 0 to 1999999\n",
      "Data columns (total 33 columns):\n",
      " #   Column                               Dtype  \n",
      "---  ------                               -----  \n",
      " 0   Hospital Service Area                object \n",
      " 1   Hospital County                      object \n",
      " 2   Operating Certificate Number         float64\n",
      " 3   Permanent Facility Id                float64\n",
      " 4   Facility Name                        object \n",
      " 5   Age Group                            object \n",
      " 6   Zip Code - 3 digits                  object \n",
      " 7   Gender                               object \n",
      " 8   Race                                 object \n",
      " 9   Ethnicity                            object \n",
      " 10  Length of Stay                       object \n",
      " 11  Type of Admission                    object \n",
      " 12  Patient Disposition                  object \n",
      " 13  Discharge Year                       int64  \n",
      " 14  CCSR Diagnosis Code                  object \n",
      " 15  CCSR Diagnosis Description           object \n",
      " 16  CCSR Procedure Code                  object \n",
      " 17  CCSR Procedure Description           object \n",
      " 18  APR DRG Code                         int64  \n",
      " 19  APR DRG Description                  object \n",
      " 20  APR MDC Code                         int64  \n",
      " 21  APR MDC Description                  object \n",
      " 22  APR Severity of Illness Code         int64  \n",
      " 23  APR Severity of Illness Description  object \n",
      " 24  APR Risk of Mortality                object \n",
      " 25  APR Medical Surgical Description     object \n",
      " 26  Payment Typology 1                   object \n",
      " 27  Payment Typology 2                   object \n",
      " 28  Payment Typology 3                   object \n",
      " 29  Birth Weight                         object \n",
      " 30  Emergency Department Indicator       object \n",
      " 31  Total Charges                        object \n",
      " 32  Total Costs                          object \n",
      "dtypes: float64(2), int64(4), object(27)\n",
      "memory usage: 503.5+ MB\n"
     ]
    }
   ],
   "source": [
    "df.info()"
   ]
  },
  {
   "cell_type": "markdown",
   "metadata": {
    "id": "97401aca"
   },
   "source": [
    "### Distribution of Variables\n"
   ]
  },
  {
   "cell_type": "code",
   "execution_count": 123,
   "metadata": {
    "colab": {
     "base_uri": "https://localhost:8080/"
    },
    "id": "65a66fff",
    "outputId": "80222bb9-e089-49f2-c9b6-25140b458881"
   },
   "outputs": [
    {
     "data": {
      "text/plain": [
       "array(['3', '1', '2', '4', '6', '17', '8', '11', '5', '13', '7', '21',\n",
       "       '49', '31', '9', '120 +', '22', '10', '20', '16', '23', '12', '29',\n",
       "       '99', '19', '25', '34', '28', '65', '32', '43', '36', '26', '83',\n",
       "       '14', '15', '44', '41', '46', '64', '18', '89', '35', '42', '45',\n",
       "       '98', '110', '58', '48', '73', '52', '24', '54', '59', '40', '38',\n",
       "       '116', '70', '97', '50', '30', '77', '27', '101', '33', '86', '68',\n",
       "       '100', '47', '78', '63', '55', '61', '81', '37', '93', '84', '75',\n",
       "       '53', '51', '57', '87', '71', '39', '80', '72', '82', '95', '90',\n",
       "       '69', '109', '67', '88', '96', '114', '56', '60', '66', '102',\n",
       "       '62', '106', '92', '119', '76', '85', '79', '74', '91', '107',\n",
       "       '117', '111', '103', '113', '108', '118', '94', '115', '112',\n",
       "       '104', '105'], dtype=object)"
      ]
     },
     "execution_count": 123,
     "metadata": {},
     "output_type": "execute_result"
    }
   ],
   "source": [
    "df['Length of Stay'].unique()"
   ]
  },
  {
   "cell_type": "code",
   "execution_count": 124,
   "metadata": {
    "colab": {
     "base_uri": "https://localhost:8080/"
    },
    "id": "EHxD6R7xcc_E",
    "outputId": "d20393d5-16ff-4062-da30-0b2dacd5c496"
   },
   "outputs": [
    {
     "data": {
      "text/plain": [
       "array(['Emergency', 'Urgent', 'Elective', 'Newborn', 'Trauma',\n",
       "       'Not Available'], dtype=object)"
      ]
     },
     "execution_count": 124,
     "metadata": {},
     "output_type": "execute_result"
    }
   ],
   "source": [
    "df['Type of Admission'].unique()"
   ]
  },
  {
   "cell_type": "code",
   "execution_count": 125,
   "metadata": {
    "colab": {
     "base_uri": "https://localhost:8080/"
    },
    "id": "BjTIQJm6chYA",
    "outputId": "f53974e2-435b-4038-9a81-ffeb20697820"
   },
   "outputs": [
    {
     "data": {
      "text/plain": [
       "array(['Y', 'N'], dtype=object)"
      ]
     },
     "execution_count": 125,
     "metadata": {},
     "output_type": "execute_result"
    }
   ],
   "source": [
    "df['Emergency Department Indicator'].unique()"
   ]
  },
  {
   "cell_type": "code",
   "execution_count": 126,
   "metadata": {
    "colab": {
     "base_uri": "https://localhost:8080/",
     "height": 209
    },
    "id": "Fkl-v2QLckP6",
    "outputId": "94e893d8-f245-4e80-fbe4-000faa914775"
   },
   "outputs": [
    {
     "data": {
      "text/plain": [
       "Gender\n",
       "F    1095989\n",
       "M     903763\n",
       "U        248\n",
       "Name: count, dtype: int64"
      ]
     },
     "execution_count": 126,
     "metadata": {},
     "output_type": "execute_result"
    }
   ],
   "source": [
    "df.Gender.value_counts()"
   ]
  },
  {
   "cell_type": "code",
   "execution_count": 127,
   "metadata": {
    "colab": {
     "base_uri": "https://localhost:8080/"
    },
    "id": "Ul3EFBLOcojb",
    "outputId": "c4634b3f-4801-4a45-e9fd-9c67d7de0c11"
   },
   "outputs": [
    {
     "data": {
      "text/plain": [
       "array(['Major', 'Minor', 'Moderate', 'Extreme', nan], dtype=object)"
      ]
     },
     "execution_count": 127,
     "metadata": {},
     "output_type": "execute_result"
    }
   ],
   "source": [
    "df['APR Risk of Mortality'].unique()"
   ]
  },
  {
   "cell_type": "code",
   "execution_count": 128,
   "metadata": {
    "colab": {
     "base_uri": "https://localhost:8080/"
    },
    "id": "BA7YAA27cqtY",
    "outputId": "da4c7d90-07d3-4c57-d7fd-d14b8713d56e"
   },
   "outputs": [
    {
     "data": {
      "text/plain": [
       "array(['Medical', 'Surgical', 'Not Applicable'], dtype=object)"
      ]
     },
     "execution_count": 128,
     "metadata": {},
     "output_type": "execute_result"
    }
   ],
   "source": [
    "df['APR Medical Surgical Description'].unique()"
   ]
  },
  {
   "cell_type": "code",
   "execution_count": 129,
   "metadata": {
    "colab": {
     "base_uri": "https://localhost:8080/",
     "height": 241
    },
    "id": "-9nKbbnccuNH",
    "outputId": "ce7d78b1-72ac-4a16-cba8-6923aa18111f"
   },
   "outputs": [
    {
     "data": {
      "text/plain": [
       "Ethnicity\n",
       "Not Span/Hispanic    72.58\n",
       "Spanish/Hispanic     15.81\n",
       "Unknown              11.38\n",
       "Multi-ethnic          0.24\n",
       "Name: count, dtype: float64"
      ]
     },
     "execution_count": 129,
     "metadata": {},
     "output_type": "execute_result"
    }
   ],
   "source": [
    "round(df.Ethnicity.value_counts()/len(df)*100,2)"
   ]
  },
  {
   "cell_type": "markdown",
   "metadata": {
    "id": "c7c2b4db"
   },
   "source": [
    "### Descriptive statistics"
   ]
  },
  {
   "cell_type": "code",
   "execution_count": 131,
   "metadata": {
    "colab": {
     "base_uri": "https://localhost:8080/",
     "height": 300
    },
    "id": "N1-Em7AjdSO4",
    "outputId": "f42c9d9f-8985-4245-842e-67ac61389536"
   },
   "outputs": [
    {
     "data": {
      "text/html": [
       "<div>\n",
       "<style scoped>\n",
       "    .dataframe tbody tr th:only-of-type {\n",
       "        vertical-align: middle;\n",
       "    }\n",
       "\n",
       "    .dataframe tbody tr th {\n",
       "        vertical-align: top;\n",
       "    }\n",
       "\n",
       "    .dataframe thead th {\n",
       "        text-align: right;\n",
       "    }\n",
       "</style>\n",
       "<table border=\"1\" class=\"dataframe\">\n",
       "  <thead>\n",
       "    <tr style=\"text-align: right;\">\n",
       "      <th></th>\n",
       "      <th>Operating Certificate Number</th>\n",
       "      <th>Permanent Facility Id</th>\n",
       "      <th>Discharge Year</th>\n",
       "      <th>APR DRG Code</th>\n",
       "      <th>APR MDC Code</th>\n",
       "      <th>APR Severity of Illness Code</th>\n",
       "    </tr>\n",
       "  </thead>\n",
       "  <tbody>\n",
       "    <tr>\n",
       "      <th>count</th>\n",
       "      <td>1.994381e+06</td>\n",
       "      <td>1.994952e+06</td>\n",
       "      <td>2000000.0</td>\n",
       "      <td>2.000000e+06</td>\n",
       "      <td>2.000000e+06</td>\n",
       "      <td>2.000000e+06</td>\n",
       "    </tr>\n",
       "    <tr>\n",
       "      <th>mean</th>\n",
       "      <td>5.109548e+06</td>\n",
       "      <td>1.057437e+03</td>\n",
       "      <td>2022.0</td>\n",
       "      <td>4.131646e+02</td>\n",
       "      <td>1.028719e+01</td>\n",
       "      <td>2.143667e+00</td>\n",
       "    </tr>\n",
       "    <tr>\n",
       "      <th>std</th>\n",
       "      <td>2.199452e+06</td>\n",
       "      <td>7.212075e+02</td>\n",
       "      <td>0.0</td>\n",
       "      <td>2.433515e+02</td>\n",
       "      <td>5.956505e+00</td>\n",
       "      <td>9.611559e-01</td>\n",
       "    </tr>\n",
       "    <tr>\n",
       "      <th>min</th>\n",
       "      <td>1.010000e+05</td>\n",
       "      <td>1.000000e+00</td>\n",
       "      <td>2022.0</td>\n",
       "      <td>1.000000e+00</td>\n",
       "      <td>0.000000e+00</td>\n",
       "      <td>0.000000e+00</td>\n",
       "    </tr>\n",
       "    <tr>\n",
       "      <th>25%</th>\n",
       "      <td>2.953000e+06</td>\n",
       "      <td>5.410000e+02</td>\n",
       "      <td>2022.0</td>\n",
       "      <td>1.940000e+02</td>\n",
       "      <td>5.000000e+00</td>\n",
       "      <td>1.000000e+00</td>\n",
       "    </tr>\n",
       "    <tr>\n",
       "      <th>50%</th>\n",
       "      <td>5.932000e+06</td>\n",
       "      <td>1.117000e+03</td>\n",
       "      <td>2022.0</td>\n",
       "      <td>3.840000e+02</td>\n",
       "      <td>9.000000e+00</td>\n",
       "      <td>2.000000e+00</td>\n",
       "    </tr>\n",
       "    <tr>\n",
       "      <th>75%</th>\n",
       "      <td>7.002024e+06</td>\n",
       "      <td>1.456000e+03</td>\n",
       "      <td>2022.0</td>\n",
       "      <td>6.400000e+02</td>\n",
       "      <td>1.500000e+01</td>\n",
       "      <td>3.000000e+00</td>\n",
       "    </tr>\n",
       "    <tr>\n",
       "      <th>max</th>\n",
       "      <td>7.004010e+06</td>\n",
       "      <td>1.035500e+04</td>\n",
       "      <td>2022.0</td>\n",
       "      <td>9.560000e+02</td>\n",
       "      <td>2.500000e+01</td>\n",
       "      <td>4.000000e+00</td>\n",
       "    </tr>\n",
       "  </tbody>\n",
       "</table>\n",
       "</div>"
      ],
      "text/plain": [
       "       Operating Certificate Number  Permanent Facility Id  Discharge Year  \\\n",
       "count                  1.994381e+06           1.994952e+06       2000000.0   \n",
       "mean                   5.109548e+06           1.057437e+03          2022.0   \n",
       "std                    2.199452e+06           7.212075e+02             0.0   \n",
       "min                    1.010000e+05           1.000000e+00          2022.0   \n",
       "25%                    2.953000e+06           5.410000e+02          2022.0   \n",
       "50%                    5.932000e+06           1.117000e+03          2022.0   \n",
       "75%                    7.002024e+06           1.456000e+03          2022.0   \n",
       "max                    7.004010e+06           1.035500e+04          2022.0   \n",
       "\n",
       "       APR DRG Code  APR MDC Code  APR Severity of Illness Code  \n",
       "count  2.000000e+06  2.000000e+06                  2.000000e+06  \n",
       "mean   4.131646e+02  1.028719e+01                  2.143667e+00  \n",
       "std    2.433515e+02  5.956505e+00                  9.611559e-01  \n",
       "min    1.000000e+00  0.000000e+00                  0.000000e+00  \n",
       "25%    1.940000e+02  5.000000e+00                  1.000000e+00  \n",
       "50%    3.840000e+02  9.000000e+00                  2.000000e+00  \n",
       "75%    6.400000e+02  1.500000e+01                  3.000000e+00  \n",
       "max    9.560000e+02  2.500000e+01                  4.000000e+00  "
      ]
     },
     "execution_count": 131,
     "metadata": {},
     "output_type": "execute_result"
    }
   ],
   "source": [
    "df.describe()"
   ]
  },
  {
   "cell_type": "code",
   "execution_count": 132,
   "metadata": {
    "colab": {
     "base_uri": "https://localhost:8080/",
     "height": 345
    },
    "id": "Cw_TtS79dXLD",
    "outputId": "28fd4119-b9dd-4d80-d9fa-57049e7f8394"
   },
   "outputs": [
    {
     "data": {
      "text/html": [
       "<div>\n",
       "<style scoped>\n",
       "    .dataframe tbody tr th:only-of-type {\n",
       "        vertical-align: middle;\n",
       "    }\n",
       "\n",
       "    .dataframe tbody tr th {\n",
       "        vertical-align: top;\n",
       "    }\n",
       "\n",
       "    .dataframe thead th {\n",
       "        text-align: right;\n",
       "    }\n",
       "</style>\n",
       "<table border=\"1\" class=\"dataframe\">\n",
       "  <thead>\n",
       "    <tr style=\"text-align: right;\">\n",
       "      <th></th>\n",
       "      <th>Hospital Service Area</th>\n",
       "      <th>Hospital County</th>\n",
       "      <th>Facility Name</th>\n",
       "      <th>Age Group</th>\n",
       "      <th>Zip Code - 3 digits</th>\n",
       "      <th>Gender</th>\n",
       "      <th>Race</th>\n",
       "      <th>Ethnicity</th>\n",
       "      <th>Length of Stay</th>\n",
       "      <th>Type of Admission</th>\n",
       "      <th>...</th>\n",
       "      <th>APR Severity of Illness Description</th>\n",
       "      <th>APR Risk of Mortality</th>\n",
       "      <th>APR Medical Surgical Description</th>\n",
       "      <th>Payment Typology 1</th>\n",
       "      <th>Payment Typology 2</th>\n",
       "      <th>Payment Typology 3</th>\n",
       "      <th>Birth Weight</th>\n",
       "      <th>Emergency Department Indicator</th>\n",
       "      <th>Total Charges</th>\n",
       "      <th>Total Costs</th>\n",
       "    </tr>\n",
       "  </thead>\n",
       "  <tbody>\n",
       "    <tr>\n",
       "      <th>count</th>\n",
       "      <td>1994952</td>\n",
       "      <td>1994952</td>\n",
       "      <td>2000000</td>\n",
       "      <td>2000000</td>\n",
       "      <td>1961165</td>\n",
       "      <td>2000000</td>\n",
       "      <td>2000000</td>\n",
       "      <td>2000000</td>\n",
       "      <td>2000000</td>\n",
       "      <td>2000000</td>\n",
       "      <td>...</td>\n",
       "      <td>1999381</td>\n",
       "      <td>1999381</td>\n",
       "      <td>2000000</td>\n",
       "      <td>2000000</td>\n",
       "      <td>943586</td>\n",
       "      <td>283042</td>\n",
       "      <td>199881</td>\n",
       "      <td>2000000</td>\n",
       "      <td>2000000</td>\n",
       "      <td>2000000</td>\n",
       "    </tr>\n",
       "    <tr>\n",
       "      <th>unique</th>\n",
       "      <td>8</td>\n",
       "      <td>56</td>\n",
       "      <td>200</td>\n",
       "      <td>5</td>\n",
       "      <td>50</td>\n",
       "      <td>3</td>\n",
       "      <td>4</td>\n",
       "      <td>4</td>\n",
       "      <td>120</td>\n",
       "      <td>6</td>\n",
       "      <td>...</td>\n",
       "      <td>4</td>\n",
       "      <td>4</td>\n",
       "      <td>3</td>\n",
       "      <td>9</td>\n",
       "      <td>9</td>\n",
       "      <td>9</td>\n",
       "      <td>73</td>\n",
       "      <td>2</td>\n",
       "      <td>1757166</td>\n",
       "      <td>1520194</td>\n",
       "    </tr>\n",
       "    <tr>\n",
       "      <th>top</th>\n",
       "      <td>New York City</td>\n",
       "      <td>Manhattan</td>\n",
       "      <td>North Shore University Hospital</td>\n",
       "      <td>70 or Older</td>\n",
       "      <td>112</td>\n",
       "      <td>F</td>\n",
       "      <td>White</td>\n",
       "      <td>Not Span/Hispanic</td>\n",
       "      <td>2</td>\n",
       "      <td>Emergency</td>\n",
       "      <td>...</td>\n",
       "      <td>Moderate</td>\n",
       "      <td>Minor</td>\n",
       "      <td>Medical</td>\n",
       "      <td>Medicare</td>\n",
       "      <td>Medicaid</td>\n",
       "      <td>Self-Pay</td>\n",
       "      <td>03200</td>\n",
       "      <td>Y</td>\n",
       "      <td>3,614.00</td>\n",
       "      <td>1,630.84</td>\n",
       "    </tr>\n",
       "    <tr>\n",
       "      <th>freq</th>\n",
       "      <td>920600</td>\n",
       "      <td>362641</td>\n",
       "      <td>48707</td>\n",
       "      <td>610583</td>\n",
       "      <td>240265</td>\n",
       "      <td>1095989</td>\n",
       "      <td>1062024</td>\n",
       "      <td>1451665</td>\n",
       "      <td>439465</td>\n",
       "      <td>1327986</td>\n",
       "      <td>...</td>\n",
       "      <td>721252</td>\n",
       "      <td>1003178</td>\n",
       "      <td>1531043</td>\n",
       "      <td>797154</td>\n",
       "      <td>391781</td>\n",
       "      <td>171034</td>\n",
       "      <td>16491</td>\n",
       "      <td>1273336</td>\n",
       "      <td>403</td>\n",
       "      <td>401</td>\n",
       "    </tr>\n",
       "  </tbody>\n",
       "</table>\n",
       "<p>4 rows × 27 columns</p>\n",
       "</div>"
      ],
      "text/plain": [
       "       Hospital Service Area Hospital County                    Facility Name  \\\n",
       "count                1994952         1994952                          2000000   \n",
       "unique                     8              56                              200   \n",
       "top            New York City       Manhattan  North Shore University Hospital   \n",
       "freq                  920600          362641                            48707   \n",
       "\n",
       "          Age Group Zip Code - 3 digits   Gender     Race          Ethnicity  \\\n",
       "count       2000000             1961165  2000000  2000000            2000000   \n",
       "unique            5                  50        3        4                  4   \n",
       "top     70 or Older                 112        F    White  Not Span/Hispanic   \n",
       "freq         610583              240265  1095989  1062024            1451665   \n",
       "\n",
       "       Length of Stay Type of Admission  ...  \\\n",
       "count         2000000           2000000  ...   \n",
       "unique            120                 6  ...   \n",
       "top                 2         Emergency  ...   \n",
       "freq           439465           1327986  ...   \n",
       "\n",
       "       APR Severity of Illness Description APR Risk of Mortality  \\\n",
       "count                              1999381               1999381   \n",
       "unique                                   4                     4   \n",
       "top                               Moderate                 Minor   \n",
       "freq                                721252               1003178   \n",
       "\n",
       "       APR Medical Surgical Description Payment Typology 1 Payment Typology 2  \\\n",
       "count                           2000000            2000000             943586   \n",
       "unique                                3                  9                  9   \n",
       "top                             Medical           Medicare           Medicaid   \n",
       "freq                            1531043             797154             391781   \n",
       "\n",
       "       Payment Typology 3 Birth Weight Emergency Department Indicator  \\\n",
       "count              283042       199881                        2000000   \n",
       "unique                  9           73                              2   \n",
       "top              Self-Pay        03200                              Y   \n",
       "freq               171034        16491                        1273336   \n",
       "\n",
       "       Total Charges Total Costs  \n",
       "count        2000000     2000000  \n",
       "unique       1757166     1520194  \n",
       "top         3,614.00    1,630.84  \n",
       "freq             403         401  \n",
       "\n",
       "[4 rows x 27 columns]"
      ]
     },
     "execution_count": 132,
     "metadata": {},
     "output_type": "execute_result"
    }
   ],
   "source": [
    "df.describe(include='object')"
   ]
  },
  {
   "cell_type": "markdown",
   "metadata": {
    "id": "fb8131f2"
   },
   "source": [
    "## Data Cleaning"
   ]
  },
  {
   "cell_type": "code",
   "execution_count": 134,
   "metadata": {
    "id": "a8744f0f"
   },
   "outputs": [],
   "source": [
    "# Converting '120+' to '120' and converting datatype to number\n",
    "df['Length of Stay'] = df['Length of Stay'].replace('120 +','120')\n"
   ]
  },
  {
   "cell_type": "code",
   "execution_count": 135,
   "metadata": {
    "id": "08fd62a1"
   },
   "outputs": [],
   "source": [
    "# Clean 'Length of Stay'\n",
    "df['Length of Stay'] = df['Length of Stay'].astype(str).str.replace('+', '', regex=False)\n",
    "df['Length of Stay'] = pd.to_numeric(df['Length of Stay'], errors='coerce')\n"
   ]
  },
  {
   "cell_type": "code",
   "execution_count": 136,
   "metadata": {
    "colab": {
     "base_uri": "https://localhost:8080/"
    },
    "id": "5fbaeb43",
    "outputId": "cb7626ed-c7f6-4efc-873d-3488e913da4f"
   },
   "outputs": [
    {
     "name": "stdout",
     "output_type": "stream",
     "text": [
      "[20 21 49 31 70 22 23 29 25 34 28 65 32 43 36 26 44 41 46 64 35 42 45 58\n",
      " 48 52 24 54 59 40 38 50 30 27 33 68 47 63 55 61 37 53 51 57 39 69 67 56\n",
      " 60 66 62]\n"
     ]
    }
   ],
   "source": [
    "# Convert 'Length of Stay' to numeric (if not already)\n",
    "df['Length of Stay'] = pd.to_numeric(df['Length of Stay'].astype(str).str.replace('+', '', regex=False), errors='coerce')\n",
    "\n",
    "# Update values below 20 to 20 and above 70 to 70\n",
    "df['Length of Stay'] = df['Length of Stay'].apply(lambda x: 20 if x < 20 else (70 if x > 70 else x))\n",
    "\n",
    "# Verify the transformation\n",
    "print(df['Length of Stay'].unique())\n"
   ]
  },
  {
   "cell_type": "code",
   "execution_count": 137,
   "metadata": {
    "id": "AeuqNN4OfJOx"
   },
   "outputs": [],
   "source": [
    "# mapping age group with midpoints\n",
    "age_group_midpoints = {\n",
    "    '0 to 17': 8.5,\n",
    "    '18 to 29': 23.5,\n",
    "    '30 to 49': 39.5,\n",
    "    '50 to 69': 59.5,\n",
    "    '70 or older': 75\n",
    "}\n",
    "\n",
    "# Apply the mapping\n",
    "df['Age Group'] = df['Age Group'].map(age_group_midpoints)"
   ]
  },
  {
   "cell_type": "code",
   "execution_count": 138,
   "metadata": {
    "id": "_-sVhlTwhOsN"
   },
   "outputs": [],
   "source": [
    "#One Hot Encoding for Gender\n",
    "from sklearn.preprocessing import OneHotEncoder\n",
    "\n",
    "# Initialize the OneHotEncoder\n",
    "encoder = OneHotEncoder(sparse_output=False)\n",
    "\n",
    "# Reshape the Gender column to 2D array\n",
    "gender_encoded = encoder.fit_transform(df[['Gender']])\n",
    "\n",
    "# Create a new DataFrame with the encoded columns, converting to integers\n",
    "encoded_df = pd.DataFrame(gender_encoded.astype(int), columns=encoder.get_feature_names_out(['Gender']))\n",
    "\n",
    "# Concatenate with the original DataFrame (optional)\n",
    "df = pd.concat([df, encoded_df], axis=1).drop(columns=['Gender'])\n",
    "\n",
    "\n",
    "\n",
    "\n"
   ]
  },
  {
   "cell_type": "code",
   "execution_count": 139,
   "metadata": {
    "id": "N9yr2tedkQsW"
   },
   "outputs": [],
   "source": [
    "#ONEHOTENCODING FOR RACE\n",
    "from sklearn.preprocessing import OneHotEncoder\n",
    "\n",
    "# Initialize the OneHotEncoder\n",
    "encoder = OneHotEncoder(sparse_output=False)\n",
    "\n",
    "# Reshape the Race column to 2D array\n",
    "race_encoded = encoder.fit_transform(df[['Race']])\n",
    "\n",
    "# Create a new DataFrame with the encoded columns\n",
    "encoded_df = pd.DataFrame(race_encoded.astype(int), columns=encoder.get_feature_names_out(['Race']))\n",
    "\n",
    "# Concatenate with the original DataFrame (optional)\n",
    "df = pd.concat([df, encoded_df], axis=1).drop(columns=['Race'])\n",
    "\n",
    "\n"
   ]
  },
  {
   "cell_type": "code",
   "execution_count": 140,
   "metadata": {
    "id": "fUPL3JYVnp8P"
   },
   "outputs": [],
   "source": [
    "#ONEHOTENCODING FOR TYPE OF ADMISSION\n",
    "from sklearn.preprocessing import OneHotEncoder\n",
    "\n",
    "# Initialize the OneHotEncoder\n",
    "encoder = OneHotEncoder(sparse_output=False)\n",
    "\n",
    "# Fit and transform the 'Type of Admission' column\n",
    "admission_encoded = encoder.fit_transform(df[['Type of Admission']])\n",
    "\n",
    "# Create a new DataFrame with the encoded columns\n",
    "encoded_df = pd.DataFrame(admission_encoded.astype(int), columns=encoder.get_feature_names_out(['Type of Admission']))\n",
    "\n",
    "# Concatenate with the original DataFrame (optional)\n",
    "df = pd.concat([df, encoded_df], axis=1).drop(columns=['Type of Admission'])\n",
    "\n"
   ]
  },
  {
   "cell_type": "code",
   "execution_count": 141,
   "metadata": {
    "id": "MGk9USgwn_4-"
   },
   "outputs": [],
   "source": [
    "#TARGET VARIABLE ENCODING FOR PATIENT DISPOSITION\n",
    "# Calculate the mean of 'Length of Stay' for each category in 'Patient Disposition'\n",
    "target_mean = df.groupby('Patient Disposition')['Length of Stay'].mean()\n",
    "\n",
    "# Map the mean values to the 'Patient Disposition' column\n",
    "df['Patient Disposition'] = df['Patient Disposition'].map(target_mean)\n",
    "\n"
   ]
  },
  {
   "cell_type": "code",
   "execution_count": 142,
   "metadata": {
    "id": "IM2WUG9Wo_Rd"
   },
   "outputs": [],
   "source": [
    "#TARGET VARIABLE ENCODING FOR CCSR Diagnosis Description\n",
    "# Calculate the mean of 'Length of Stay' for each category in 'CCSR Diagnosis Description'\n",
    "target_mean = df.groupby('CCSR Diagnosis Description')['Length of Stay'].mean()\n",
    "\n",
    "# Map the mean values to the 'CCSR Diagnosis Description' column\n",
    "df['CCSR Diagnosis Description'] = df['CCSR Diagnosis Description'].map(target_mean)\n",
    "\n"
   ]
  },
  {
   "cell_type": "code",
   "execution_count": 143,
   "metadata": {
    "id": "41VQrywrtPZD"
   },
   "outputs": [],
   "source": [
    "#ONEHOTENCODING FOR Emergency Department Indicator\n",
    "from sklearn.preprocessing import OneHotEncoder\n",
    "\n",
    "# Initialize the OneHotEncoder\n",
    "encoder = OneHotEncoder(sparse_output=False)\n",
    "\n",
    "# Reshape the 'Emergency Department Indicator' column to 2D array\n",
    "ed_encoded = encoder.fit_transform(df[['Emergency Department Indicator']])\n",
    "\n",
    "# Create a new DataFrame with the encoded columns\n",
    "encoded_df = pd.DataFrame(ed_encoded.astype(int), columns=encoder.get_feature_names_out(['Emergency Department Indicator']))\n",
    "\n",
    "# Concatenate with the original DataFrame (optional)\n",
    "df = pd.concat([df, encoded_df], axis=1).drop(columns=['Emergency Department Indicator'])\n",
    "\n",
    "\n"
   ]
  },
  {
   "cell_type": "code",
   "execution_count": 144,
   "metadata": {
    "id": "LTjJyL52v68U"
   },
   "outputs": [],
   "source": [
    "##ONEHOTENCODING FOR APR Risk of Mortality\n",
    "from sklearn.impute import SimpleImputer\n",
    "from sklearn.preprocessing import OneHotEncoder\n",
    "from sklearn.compose import ColumnTransformer\n",
    "from sklearn.pipeline import Pipeline\n",
    "import pandas as pd\n",
    "\n",
    "# Define a pipeline to first impute missing values, then apply OneHotEncoding\n",
    "pipeline = Pipeline(steps=[\n",
    "    ('imputer', SimpleImputer(strategy='most_frequent')),  # Impute with the most frequent value\n",
    "    ('encoder', OneHotEncoder(sparse_output=False, drop='if_binary'))  # Apply OneHotEncoding\n",
    "])\n",
    "\n",
    "# Apply the pipeline to the 'APR Risk of Mortality' column\n",
    "encoded = pipeline.fit_transform(df[['APR Risk of Mortality']])\n",
    "\n",
    "# Convert the encoded data back to a DataFrame and cast the values to integers\n",
    "encoded_df = pd.DataFrame(encoded.astype(int), columns=pipeline.named_steps['encoder'].get_feature_names_out(['APR Risk of Mortality']))\n",
    "\n",
    "# Concatenate the encoded columns back to the original DataFrame and drop the original column\n",
    "df = pd.concat([df, encoded_df], axis=1).drop(columns=['APR Risk of Mortality'])\n",
    "\n",
    "\n"
   ]
  },
  {
   "cell_type": "code",
   "execution_count": 145,
   "metadata": {
    "id": "QIfFXVHrxk5S"
   },
   "outputs": [],
   "source": [
    "#dropping unnecessary columns\n",
    "df.drop(columns=['Hospital Service Area','Hospital County','Operating Certificate Number','Permanent Facility Id','Facility Name','Zip Code - 3 digits','Ethnicity','Discharge Year','CCSR Diagnosis Code','CCSR Procedure Code','CCSR Procedure Description','APR DRG Code','APR DRG Description','APR MDC Code','APR MDC Description','APR Severity of Illness Code','APR Severity of Illness Description','APR Medical Surgical Description','Payment Typology 1','Payment Typology 2','Payment Typology 3','Birth Weight'],axis =1,inplace=True)\n"
   ]
  },
  {
   "cell_type": "code",
   "execution_count": null,
   "metadata": {
    "id": "36oOI1l217yC"
   },
   "outputs": [],
   "source": []
  },
  {
   "cell_type": "code",
   "execution_count": 146,
   "metadata": {
    "colab": {
     "base_uri": "https://localhost:8080/"
    },
    "id": "OupANDz81ReJ",
    "outputId": "a41043fa-c2ec-4db9-bbc7-c05ecc0015ca"
   },
   "outputs": [
    {
     "name": "stdout",
     "output_type": "stream",
     "text": [
      "Index(['Age Group', 'Length of Stay', 'Patient Disposition',\n",
      "       'CCSR Diagnosis Description', 'Total Charges', 'Total Costs',\n",
      "       'Gender_F', 'Gender_M', 'Gender_U', 'Race_Black/African American',\n",
      "       'Race_Multi-racial', 'Race_Other Race', 'Race_White',\n",
      "       'Type of Admission_Elective', 'Type of Admission_Emergency',\n",
      "       'Type of Admission_Newborn', 'Type of Admission_Not Available',\n",
      "       'Type of Admission_Trauma', 'Type of Admission_Urgent',\n",
      "       'Emergency Department Indicator_N', 'Emergency Department Indicator_Y',\n",
      "       'APR Risk of Mortality_Extreme', 'APR Risk of Mortality_Major',\n",
      "       'APR Risk of Mortality_Minor', 'APR Risk of Mortality_Moderate'],\n",
      "      dtype='object')\n"
     ]
    }
   ],
   "source": [
    "print(df.columns)"
   ]
  },
  {
   "cell_type": "code",
   "execution_count": 147,
   "metadata": {
    "id": "MfJWGs8_F7MS"
   },
   "outputs": [],
   "source": [
    "#SCALING\n",
    "# Import StandardScaler\n",
    "from sklearn.preprocessing import StandardScaler\n",
    "\n",
    "# Remove commas and convert columns to numeric where applicable\n",
    "columns_to_scale = ['Age Group', 'Length of Stay', 'Total Charges', 'Total Costs',\n",
    "                    'Patient Disposition', 'CCSR Diagnosis Description']\n",
    "df[columns_to_scale] = df[columns_to_scale].replace({',': ''}, regex=True)\n",
    "\n",
    "# Convert to numeric\n",
    "df[columns_to_scale] = df[columns_to_scale].apply(pd.to_numeric, errors='coerce')\n",
    "\n",
    "# Now apply scaling to the selected columns\n",
    "scaler = StandardScaler()\n",
    "df[columns_to_scale] = scaler.fit_transform(df[columns_to_scale])\n",
    "\n",
    "\n",
    "\n",
    "\n",
    "\n"
   ]
  },
  {
   "cell_type": "code",
   "execution_count": 148,
   "metadata": {
    "colab": {
     "base_uri": "https://localhost:8080/",
     "height": 699
    },
    "id": "rU1oDFyOyM2H",
    "outputId": "a74e4b83-0c2e-4f50-9e9b-1f622d27a9e6"
   },
   "outputs": [
    {
     "data": {
      "image/png": "[encoded data removed]",
      "text/plain": [
       "<Figure size 1200x800 with 2 Axes>"
      ]
     },
     "metadata": {},
     "output_type": "display_data"
    }
   ],
   "source": [
    "import seaborn as sns\n",
    "import matplotlib.pyplot as plt\n",
    "\n",
    "# Define the columns to include in the correlation analysis\n",
    "columns_to_include = [\n",
    "    'Length of Stay', 'Total Charges', 'Total Costs', 'Age Group'\n",
    "]\n",
    "\n",
    "# Generate the correlation heatmap\n",
    "plt.figure(figsize=(12, 8))\n",
    "sns.heatmap(df[columns_to_include].corr(), annot=True, cmap='coolwarm', fmt='.2f')\n",
    "plt.title('Correlation Heatmap of Numerical Features')\n",
    "plt.show()\n"
   ]
  },
  {
   "cell_type": "code",
   "execution_count": 149,
   "metadata": {
    "colab": {
     "base_uri": "https://localhost:8080/"
    },
    "id": "nytlBr4Ix31U",
    "outputId": "89e147e6-96be-4a08-fcd1-08c7c42b0200"
   },
   "outputs": [
    {
     "name": "stdout",
     "output_type": "stream",
     "text": [
      "Index(['Age Group', 'Length of Stay', 'Patient Disposition',\n",
      "       'CCSR Diagnosis Description', 'Total Charges', 'Total Costs',\n",
      "       'Gender_F', 'Gender_M', 'Gender_U', 'Race_Black/African American',\n",
      "       'Race_Multi-racial', 'Race_Other Race', 'Race_White',\n",
      "       'Type of Admission_Elective', 'Type of Admission_Emergency',\n",
      "       'Type of Admission_Newborn', 'Type of Admission_Not Available',\n",
      "       'Type of Admission_Trauma', 'Type of Admission_Urgent',\n",
      "       'Emergency Department Indicator_N', 'Emergency Department Indicator_Y',\n",
      "       'APR Risk of Mortality_Extreme', 'APR Risk of Mortality_Major',\n",
      "       'APR Risk of Mortality_Minor', 'APR Risk of Mortality_Moderate'],\n",
      "      dtype='object')\n"
     ]
    }
   ],
   "source": [
    "print(df.columns)\n"
   ]
  },
  {
   "cell_type": "code",
   "execution_count": 150,
   "metadata": {
    "id": "Ashypzlh1Qcd"
   },
   "outputs": [],
   "source": [
    "# prompt: drop missing valueesin columns\n",
    "\n",
    "# Drop rows with any missing values in specified columns\n",
    "columns_to_check = ['Total Charges', 'Total Costs']  # Replace with your desired columns\n",
    "df.dropna(subset=columns_to_check, inplace=True)"
   ]
  },
  {
   "cell_type": "code",
   "execution_count": 151,
   "metadata": {
    "colab": {
     "base_uri": "https://localhost:8080/"
    },
    "id": "l0VPXITz3iN4",
    "outputId": "11aaece2-38c9-4b1d-8293-179ebcfbb4ec"
   },
   "outputs": [
    {
     "name": "stdout",
     "output_type": "stream",
     "text": [
      "Mean Squared Error: 0.5932545149150296\n",
      "R-squared: 0.40320012599468824\n"
     ]
    }
   ],
   "source": [
    "# prompt: linear regression model\n",
    "\n",
    "# Import necessary libraries\n",
    "from sklearn.model_selection import train_test_split\n",
    "from sklearn.linear_model import LinearRegression\n",
    "from sklearn.metrics import mean_squared_error, r2_score\n",
    "from sklearn.impute import SimpleImputer # Import SimpleImputer\n",
    "\n",
    "# Define features (X) and target variable (y)\n",
    "X = df.drop('Length of Stay', axis=1)\n",
    "y = df['Length of Stay']\n",
    "\n",
    "# Split data into training and testing sets\n",
    "X_train, X_test, y_train, y_test = train_test_split(X, y, test_size=0.2, random_state=42)\n",
    "\n",
    "# Impute missing values using SimpleImputer before training the model\n",
    "imputer = SimpleImputer(strategy='mean') # Create an imputer instance\n",
    "X_train = imputer.fit_transform(X_train) # Fit and transform on training data\n",
    "X_test = imputer.transform(X_test) # Transform testing data\n",
    "\n",
    "# Initialize and train the linear regression model\n",
    "model = LinearRegression()\n",
    "model.fit(X_train, y_train)\n",
    "\n",
    "# Make predictions on the test set\n",
    "y_pred = model.predict(X_test)\n",
    "\n",
    "# Evaluate the model\n",
    "mse = mean_squared_error(y_test, y_pred)\n",
    "r2 = r2_score(y_test, y_pred)\n",
    "\n",
    "print(f\"Mean Squared Error: {mse}\")\n",
    "print(f\"R-squared: {r2}\")"
   ]
  },
  {
   "cell_type": "code",
   "execution_count": null,
   "metadata": {
    "id": "S9P8Mbfg5HW6"
   },
   "outputs": [],
   "source": []
  },
  {
   "cell_type": "code",
   "execution_count": 152,
   "metadata": {
    "colab": {
     "base_uri": "https://localhost:8080/",
     "height": 1000
    },
    "id": "zgjvPyoN4UnS",
    "outputId": "1e89e8b9-5ebb-4cbe-d56f-80ef77e9c900"
   },
   "outputs": [
    {
     "name": "stdout",
     "output_type": "stream",
     "text": [
      "Outliers (IQR method):\n",
      "         Age Group  Length of Stay  Patient Disposition  \\\n",
      "46        1.057841        0.085309            -0.478484   \n",
      "47       -1.533239        6.612235            -0.478484   \n",
      "49        1.057841        2.416354            -0.478484   \n",
      "101      -0.771156       11.507430             3.685912   \n",
      "109      -0.771156        0.318414            -0.478484   \n",
      "...            ...             ...                  ...   \n",
      "1999846   1.057841        1.250832             1.600398   \n",
      "1999883  -1.533239        0.784623            -0.072756   \n",
      "1999913  -1.533239       11.507430            -0.478484   \n",
      "1999933  -1.533239        0.318414            -0.478484   \n",
      "1999980   1.057841        0.085309            -0.478484   \n",
      "\n",
      "         CCSR Diagnosis Description  Total Charges  Total Costs  Gender_F  \\\n",
      "46                         0.356977       0.435012     0.310789         0   \n",
      "47                        -0.151928       6.717459     2.363611         0   \n",
      "49                         0.470001       2.628262     1.423321         0   \n",
      "101                        2.648777      10.504803    10.398819         1   \n",
      "109                        4.912220       0.634631     0.584650         0   \n",
      "...                             ...            ...          ...       ...   \n",
      "1999846                    2.494502      -0.225783    -0.274408         1   \n",
      "1999883                   -0.151928       5.149288     2.151693         0   \n",
      "1999913                    0.874725      15.762724    13.556434         0   \n",
      "1999933                    0.357952       1.588927     1.123148         0   \n",
      "1999980                    4.912220       1.000301     0.312242         1   \n",
      "\n",
      "         Gender_M  Gender_U  Race_Black/African American  ...  \\\n",
      "46              1         0                            0  ...   \n",
      "47              1         0                            0  ...   \n",
      "49              1         0                            1  ...   \n",
      "101             0         0                            0  ...   \n",
      "109             1         0                            1  ...   \n",
      "...           ...       ...                          ...  ...   \n",
      "1999846         0         0                            0  ...   \n",
      "1999883         1         0                            0  ...   \n",
      "1999913         1         0                            1  ...   \n",
      "1999933         1         0                            0  ...   \n",
      "1999980         0         0                            0  ...   \n",
      "\n",
      "         Type of Admission_Newborn  Type of Admission_Not Available  \\\n",
      "46                               0                                0   \n",
      "47                               1                                0   \n",
      "49                               0                                0   \n",
      "101                              0                                0   \n",
      "109                              0                                0   \n",
      "...                            ...                              ...   \n",
      "1999846                          0                                0   \n",
      "1999883                          1                                0   \n",
      "1999913                          0                                0   \n",
      "1999933                          0                                0   \n",
      "1999980                          0                                0   \n",
      "\n",
      "         Type of Admission_Trauma  Type of Admission_Urgent  \\\n",
      "46                              0                         0   \n",
      "47                              0                         0   \n",
      "49                              0                         0   \n",
      "101                             0                         0   \n",
      "109                             0                         0   \n",
      "...                           ...                       ...   \n",
      "1999846                         0                         0   \n",
      "1999883                         0                         0   \n",
      "1999913                         0                         1   \n",
      "1999933                         0                         0   \n",
      "1999980                         0                         0   \n",
      "\n",
      "         Emergency Department Indicator_N  Emergency Department Indicator_Y  \\\n",
      "46                                      0                                 1   \n",
      "47                                      1                                 0   \n",
      "49                                      0                                 1   \n",
      "101                                     0                                 1   \n",
      "109                                     0                                 1   \n",
      "...                                   ...                               ...   \n",
      "1999846                                 0                                 1   \n",
      "1999883                                 1                                 0   \n",
      "1999913                                 1                                 0   \n",
      "1999933                                 1                                 0   \n",
      "1999980                                 0                                 1   \n",
      "\n",
      "         APR Risk of Mortality_Extreme  APR Risk of Mortality_Major  \\\n",
      "46                                   0                            0   \n",
      "47                                   0                            1   \n",
      "49                                   0                            1   \n",
      "101                                  0                            0   \n",
      "109                                  0                            0   \n",
      "...                                ...                          ...   \n",
      "1999846                              0                            0   \n",
      "1999883                              1                            0   \n",
      "1999913                              1                            0   \n",
      "1999933                              0                            1   \n",
      "1999980                              0                            0   \n",
      "\n",
      "         APR Risk of Mortality_Minor  APR Risk of Mortality_Moderate  \n",
      "46                                 0                               1  \n",
      "47                                 0                               0  \n",
      "49                                 0                               0  \n",
      "101                                1                               0  \n",
      "109                                1                               0  \n",
      "...                              ...                             ...  \n",
      "1999846                            1                               0  \n",
      "1999883                            0                               0  \n",
      "1999913                            0                               0  \n",
      "1999933                            0                               0  \n",
      "1999980                            0                               1  \n",
      "\n",
      "[85417 rows x 25 columns]\n",
      "\n",
      "Outliers (Z-score method):\n",
      "         Age Group  Length of Stay  Patient Disposition  \\\n",
      "47       -1.533239        6.612235            -0.478484   \n",
      "101      -0.771156       11.507430             3.685912   \n",
      "166            NaN       11.507430             0.775609   \n",
      "273       1.057841        3.115668             1.600398   \n",
      "307      -1.533239       10.341907             0.775609   \n",
      "...            ...             ...                  ...   \n",
      "1999771  -0.771156        6.146026            -0.478484   \n",
      "1999779        NaN        8.943280             1.600398   \n",
      "1999782        NaN        6.845340             1.600398   \n",
      "1999822   1.057841        3.581877            -0.478484   \n",
      "1999913  -1.533239       11.507430            -0.478484   \n",
      "\n",
      "         CCSR Diagnosis Description  Total Charges  Total Costs  Gender_F  \\\n",
      "47                        -0.151928       6.717459     2.363611         0   \n",
      "101                        2.648777      10.504803    10.398819         1   \n",
      "166                        0.108764      10.138328     5.582719         1   \n",
      "273                       -0.169780       2.446524     1.726297         0   \n",
      "307                       -0.357381       8.295192     5.216523         0   \n",
      "...                             ...            ...          ...       ...   \n",
      "1999771                    4.912220       0.691060     1.769439         0   \n",
      "1999779                   -0.097294       2.549586     5.098268         0   \n",
      "1999782                   -0.469824       1.618316     3.395336         0   \n",
      "1999822                    1.257064      -0.121998    -0.095774         1   \n",
      "1999913                    0.874725      15.762724    13.556434         0   \n",
      "\n",
      "         Gender_M  Gender_U  Race_Black/African American  ...  \\\n",
      "47              1         0                            0  ...   \n",
      "101             0         0                            0  ...   \n",
      "166             0         0                            0  ...   \n",
      "273             1         0                            0  ...   \n",
      "307             1         0                            0  ...   \n",
      "...           ...       ...                          ...  ...   \n",
      "1999771         1         0                            0  ...   \n",
      "1999779         1         0                            0  ...   \n",
      "1999782         1         0                            0  ...   \n",
      "1999822         0         0                            0  ...   \n",
      "1999913         1         0                            1  ...   \n",
      "\n",
      "         Type of Admission_Newborn  Type of Admission_Not Available  \\\n",
      "47                               1                                0   \n",
      "101                              0                                0   \n",
      "166                              0                                0   \n",
      "273                              0                                0   \n",
      "307                              0                                0   \n",
      "...                            ...                              ...   \n",
      "1999771                          0                                0   \n",
      "1999779                          0                                0   \n",
      "1999782                          0                                0   \n",
      "1999822                          0                                0   \n",
      "1999913                          0                                0   \n",
      "\n",
      "         Type of Admission_Trauma  Type of Admission_Urgent  \\\n",
      "47                              0                         0   \n",
      "101                             0                         0   \n",
      "166                             0                         0   \n",
      "273                             0                         0   \n",
      "307                             0                         0   \n",
      "...                           ...                       ...   \n",
      "1999771                         0                         0   \n",
      "1999779                         0                         0   \n",
      "1999782                         0                         0   \n",
      "1999822                         0                         0   \n",
      "1999913                         0                         1   \n",
      "\n",
      "         Emergency Department Indicator_N  Emergency Department Indicator_Y  \\\n",
      "47                                      1                                 0   \n",
      "101                                     0                                 1   \n",
      "166                                     0                                 1   \n",
      "273                                     0                                 1   \n",
      "307                                     1                                 0   \n",
      "...                                   ...                               ...   \n",
      "1999771                                 0                                 1   \n",
      "1999779                                 0                                 1   \n",
      "1999782                                 0                                 1   \n",
      "1999822                                 1                                 0   \n",
      "1999913                                 1                                 0   \n",
      "\n",
      "         APR Risk of Mortality_Extreme  APR Risk of Mortality_Major  \\\n",
      "47                                   0                            1   \n",
      "101                                  0                            0   \n",
      "166                                  1                            0   \n",
      "273                                  1                            0   \n",
      "307                                  0                            1   \n",
      "...                                ...                          ...   \n",
      "1999771                              0                            0   \n",
      "1999779                              1                            0   \n",
      "1999782                              0                            0   \n",
      "1999822                              0                            0   \n",
      "1999913                              1                            0   \n",
      "\n",
      "         APR Risk of Mortality_Minor  APR Risk of Mortality_Moderate  \n",
      "47                                 0                               0  \n",
      "101                                1                               0  \n",
      "166                                0                               0  \n",
      "273                                0                               0  \n",
      "307                                0                               0  \n",
      "...                              ...                             ...  \n",
      "1999771                            1                               0  \n",
      "1999779                            0                               0  \n",
      "1999782                            0                               1  \n",
      "1999822                            1                               0  \n",
      "1999913                            0                               0  \n",
      "\n",
      "[31723 rows x 25 columns]\n"
     ]
    },
    {
     "data": {
      "image/png": "[encoded data removed]",
      "text/plain": [
       "<Figure size 1000x600 with 1 Axes>"
      ]
     },
     "metadata": {},
     "output_type": "display_data"
    },
    {
     "data": {
      "image/png": "[encoded data removed]",
      "text/plain": [
       "<Figure size 1000x600 with 1 Axes>"
      ]
     },
     "metadata": {},
     "output_type": "display_data"
    }
   ],
   "source": [
    "# prompt: check for the outliers\n",
    "\n",
    "# Assuming 'df' is your DataFrame and 'Length of Stay' is the column you want to check for outliers.\n",
    "\n",
    "# Using IQR method\n",
    "Q1 = df['Length of Stay'].quantile(0.25)\n",
    "Q3 = df['Length of Stay'].quantile(0.75)\n",
    "IQR = Q3 - Q1\n",
    "lower_bound = Q1 - 1.5 * IQR\n",
    "upper_bound = Q3 + 1.5 * IQR\n",
    "\n",
    "outliers = df[(df['Length of Stay'] < lower_bound) | (df['Length of Stay'] > upper_bound)]\n",
    "print(\"Outliers (IQR method):\")\n",
    "print(outliers)\n",
    "\n",
    "# Using Z-score method\n",
    "z = np.abs(stats.zscore(df['Length of Stay']))\n",
    "outliers_zscore = df[(z > 3)]  # Values with Z-score > 3 are considered outliers\n",
    "print(\"\\nOutliers (Z-score method):\")\n",
    "print(outliers_zscore)\n",
    "\n",
    "\n",
    "# Visualization (optional)\n",
    "plt.figure(figsize=(10, 6))\n",
    "sns.boxplot(x=df['Length of Stay'])\n",
    "plt.title('Boxplot of Length of Stay')\n",
    "plt.show()\n",
    "\n",
    "plt.figure(figsize=(10, 6))\n",
    "sns.histplot(df['Length of Stay'], kde=True)\n",
    "plt.title('Distribution of Length of Stay')\n",
    "plt.show()"
   ]
  },
  {
   "cell_type": "markdown",
   "metadata": {
    "id": "K_LZfi_KMCZr"
   },
   "source": [
    "Question1\n"
   ]
  },
  {
   "cell_type": "code",
   "execution_count": 154,
   "metadata": {
    "colab": {
     "base_uri": "https://localhost:8080/"
    },
    "id": "uRPhZdUCxiOD",
    "outputId": "12322a33-404f-4496-8108-a973c3d8ef57"
   },
   "outputs": [
    {
     "name": "stdout",
     "output_type": "stream",
     "text": [
      "Model: Linear Regression\n",
      "  Mean Squared Error: 0.5932545149150296\n",
      "  R-squared: 0.40320012599468824\n",
      "--------------------\n",
      "Model: Decision Tree\n",
      "  Mean Squared Error: 0.6232566009809828\n",
      "  R-squared: 0.37301874391684264\n",
      "--------------------\n",
      "Model: Random Forest\n",
      "  Mean Squared Error: 0.3182492068261077\n",
      "  R-squared: 0.6798488983041033\n",
      "--------------------\n"
     ]
    }
   ],
   "source": [
    "# prompt: fit all the machine learning models in a frame and find out the predictions for all the models\n",
    "\n",
    "import pandas as pd\n",
    "from sklearn.model_selection import train_test_split\n",
    "from sklearn.linear_model import LinearRegression\n",
    "from sklearn.tree import DecisionTreeRegressor\n",
    "from sklearn.ensemble import RandomForestRegressor\n",
    "from sklearn.svm import SVR\n",
    "from sklearn.metrics import mean_squared_error, r2_score\n",
    "from sklearn.impute import SimpleImputer\n",
    "\n",
    "\n",
    "# Assuming X and y are already defined as in your previous code\n",
    "X = df.drop('Length of Stay', axis=1) # Removed the extra indent here\n",
    "y = df['Length of Stay']\n",
    "\n",
    "# Split data (already done in the provided code)\n",
    "X_train, X_test, y_train, y_test = train_test_split(X, y, test_size=0.2, random_state=42)\n",
    "\n",
    "# Impute missing values (already done in the provided code)\n",
    "imputer = SimpleImputer(strategy='mean')\n",
    "X_train = imputer.fit_transform(X_train)\n",
    "X_test = imputer.transform(X_test)\n",
    "\n",
    "\n",
    "# Create a dictionary of models\n",
    "models = {\n",
    "    'Linear Regression': LinearRegression(),\n",
    "    'Decision Tree': DecisionTreeRegressor(),\n",
    "    'Random Forest': RandomForestRegressor(),\n",
    "    # 'Support Vector Machine': SVR() # SVM can be computationally expensive\n",
    "}\n",
    "\n",
    "# Train and evaluate each model\n",
    "results = {}\n",
    "for name, model in models.items():\n",
    "    model.fit(X_train, y_train)\n",
    "    y_pred = model.predict(X_test)\n",
    "    mse = mean_squared_error(y_test, y_pred)\n",
    "    r2 = r2_score(y_test, y_pred)\n",
    "    results[name] = {'mse': mse, 'r2': r2, 'predictions': y_pred}\n",
    "\n",
    "\n",
    "# Print the results\n",
    "for name, metrics in results.items():\n",
    "    print(f\"Model: {name}\")\n",
    "    print(f\"  Mean Squared Error: {metrics['mse']}\")\n",
    "    print(f\"  R-squared: {metrics['r2']}\")\n",
    "    # Access predictions:\n",
    "    # predictions = metrics['predictions']\n",
    "    print(\"-\" * 20)"
   ]
  },
  {
   "cell_type": "code",
   "execution_count": 155,
   "metadata": {
    "colab": {
     "base_uri": "https://localhost:8080/"
    },
    "id": "f-bv6-Rv94de",
    "outputId": "79b16112-dccb-48af-d503-9404f055b5ba"
   },
   "outputs": [
    {
     "name": "stdout",
     "output_type": "stream",
     "text": [
      "Model: Lasso Regression\n",
      "  Mean Squared Error: 0.6169091071221796\n",
      "  R-squared: 0.3794041711490751\n",
      "--------------------\n",
      "Model: XGBoost\n",
      "  Mean Squared Error: 0.36028450179686117\n",
      "  R-squared: 0.6375623954429916\n",
      "--------------------\n",
      "Model: Neural Network (MLP)\n",
      "  Mean Squared Error: 0.36262059801188007\n",
      "  R-squared: 0.6352123384409185\n",
      "--------------------\n"
     ]
    }
   ],
   "source": [
    "import pandas as pd\n",
    "from sklearn.model_selection import train_test_split\n",
    "from sklearn.linear_model import Lasso\n",
    "from sklearn.ensemble import GradientBoostingRegressor\n",
    "from xgboost import XGBRegressor\n",
    "from sklearn.neural_network import MLPRegressor\n",
    "from sklearn.metrics import mean_squared_error, r2_score\n",
    "from sklearn.impute import SimpleImputer\n",
    "\n",
    "\n",
    "# Create a dictionary of models\n",
    "models2 = {\n",
    "    'Lasso Regression': Lasso(alpha=0.1),\n",
    "    'XGBoost': XGBRegressor(n_estimators=100, learning_rate=0.1, max_depth=5, random_state=42),\n",
    "    'Neural Network (MLP)': MLPRegressor(hidden_layer_sizes=(100,), max_iter=500, random_state=42)\n",
    "}\n",
    "\n",
    "# Train and evaluate each model\n",
    "results = {}\n",
    "for name, model in models2.items():\n",
    "    model.fit(X_train, y_train)\n",
    "    y_pred = model.predict(X_test)\n",
    "    mse = mean_squared_error(y_test, y_pred)\n",
    "    r2 = r2_score(y_test, y_pred)\n",
    "    results[name] = {'mse': mse, 'r2': r2, 'predictions': y_pred}\n",
    "\n",
    "# Print the results\n",
    "for name, metrics in results.items():\n",
    "    print(f\"Model: {name}\")\n",
    "    print(f\"  Mean Squared Error: {metrics['mse']}\")\n",
    "    print(f\"  R-squared: {metrics['r2']}\")\n",
    "    print(\"-\" * 20)\n"
   ]
  },
  {
   "cell_type": "code",
   "execution_count": 156,
   "metadata": {
    "colab": {
     "base_uri": "https://localhost:8080/",
     "height": 472
    },
    "id": "qHO_-WRFB73V",
    "outputId": "d87ffae2-5268-458e-a17a-21d2d36fa697"
   },
   "outputs": [
    {
     "data": {
      "image/png": "[encoded data removed]",
      "text/plain": [
       "<Figure size 640x480 with 1 Axes>"
      ]
     },
     "metadata": {},
     "output_type": "display_data"
    }
   ],
   "source": [
    "import matplotlib.pyplot as plt\n",
    "\n",
    "# Access the XGBoost model from the models2 dictionary\n",
    "xgb_model = models2['XGBoost']\n",
    "\n",
    "plt.barh(X.columns, xgb_model.feature_importances_)\n",
    "plt.xlabel(\"Feature Importance\")\n",
    "plt.title(\"XGBoost Feature Importance\")\n",
    "plt.show()"
   ]
  },
  {
   "cell_type": "code",
   "execution_count": 157,
   "metadata": {
    "colab": {
     "base_uri": "https://localhost:8080/"
    },
    "id": "bRsRORF9CPcn",
    "outputId": "692a4299-ee1e-404d-a930-6693edb2b828"
   },
   "outputs": [
    {
     "name": "stdout",
     "output_type": "stream",
     "text": [
      "Cross-validated R²: 0.6354\n"
     ]
    }
   ],
   "source": [
    "from sklearn.model_selection import cross_val_score\n",
    "scores = cross_val_score(models2['XGBoost'], X, y, scoring='r2', cv=5)\n",
    "print(f\"Cross-validated R²: {scores.mean():.4f}\")\n"
   ]
  },
  {
   "cell_type": "markdown",
   "metadata": {
    "id": "xKH7R-ejMNbw"
   },
   "source": [
    "Question3"
   ]
  },
  {
   "cell_type": "code",
   "execution_count": 159,
   "metadata": {
    "colab": {
     "base_uri": "https://localhost:8080/"
    },
    "id": "q521rm1vzAZx",
    "outputId": "87211ea2-5156-4efa-ada8-57fa9550fea3"
   },
   "outputs": [
    {
     "name": "stdout",
     "output_type": "stream",
     "text": [
      "Model: Linear Regression\n",
      "  Mean Squared Error: 0.24343819658564225\n",
      "  R-squared: 0.7617867670173771\n",
      "--------------------\n",
      "Model: Decision Tree\n",
      "  Mean Squared Error: 0.33419851607473494\n",
      "  R-squared: 0.6729744547538559\n",
      "--------------------\n",
      "Model: Random Forest\n",
      "  Mean Squared Error: 0.17781518709964803\n",
      "  R-squared: 0.8260012964830049\n",
      "--------------------\n"
     ]
    }
   ],
   "source": [
    "# prompt: fit all the machine learning models in a frame and find out the predictions for all the models\n",
    "\n",
    "import pandas as pd\n",
    "from sklearn.model_selection import train_test_split\n",
    "from sklearn.linear_model import LinearRegression\n",
    "from sklearn.tree import DecisionTreeRegressor\n",
    "from sklearn.ensemble import RandomForestRegressor\n",
    "from sklearn.svm import SVR\n",
    "from sklearn.metrics import mean_squared_error, r2_score\n",
    "from sklearn.impute import SimpleImputer\n",
    "\n",
    "\n",
    "# Assuming X and y are already defined as in your previous code\n",
    "X = df.drop('Total Charges', axis=1) # Removed the extra indent here\n",
    "y = df['Total Charges']\n",
    "\n",
    "# Split data (already done in the provided code)\n",
    "X_train, X_test, y_train, y_test = train_test_split(X, y, test_size=0.2, random_state=42)\n",
    "\n",
    "# Impute missing values (already done in the provided code)\n",
    "imputer = SimpleImputer(strategy='mean')\n",
    "X_train = imputer.fit_transform(X_train)\n",
    "X_test = imputer.transform(X_test)\n",
    "\n",
    "\n",
    "# Create a dictionary of models\n",
    "models = {\n",
    "    'Linear Regression': LinearRegression(),\n",
    "    'Decision Tree': DecisionTreeRegressor(),\n",
    "    'Random Forest': RandomForestRegressor(),\n",
    "    # 'Support Vector Machine': SVR() # SVM can be computationally expensive\n",
    "}\n",
    "\n",
    "# Train and evaluate each model\n",
    "results = {}\n",
    "for name, model in models.items():\n",
    "    model.fit(X_train, y_train)\n",
    "    y_pred = model.predict(X_test)\n",
    "    mse = mean_squared_error(y_test, y_pred)\n",
    "    r2 = r2_score(y_test, y_pred)\n",
    "    results[name] = {'mse': mse, 'r2': r2, 'predictions': y_pred}\n",
    "\n",
    "\n",
    "# Print the results\n",
    "for name, metrics in results.items():\n",
    "    print(f\"Model: {name}\")\n",
    "    print(f\"  Mean Squared Error: {metrics['mse']}\")\n",
    "    print(f\"  R-squared: {metrics['r2']}\")\n",
    "    # Access predictions:\n",
    "    # predictions = metrics['predictions']\n",
    "    print(\"-\" * 20)"
   ]
  },
  {
   "cell_type": "code",
   "execution_count": 160,
   "metadata": {
    "colab": {
     "base_uri": "https://localhost:8080/"
    },
    "id": "18nb9ce7zYxc",
    "outputId": "0c64e7be-1faf-4f95-b8ba-706bb9990596"
   },
   "outputs": [
    {
     "name": "stdout",
     "output_type": "stream",
     "text": [
      "Model: Lasso Regression\n",
      "  Mean Squared Error: 0.2631236608336097\n",
      "  R-squared: 0.7425238158986013\n",
      "--------------------\n",
      "Model: XGBoost\n",
      "  Mean Squared Error: 0.2555392246325135\n",
      "  R-squared: 0.749945465800522\n",
      "--------------------\n",
      "Model: Neural Network (MLP)\n",
      "  Mean Squared Error: 0.1656420910921041\n",
      "  R-squared: 0.8379131188512122\n",
      "--------------------\n"
     ]
    }
   ],
   "source": [
    "import pandas as pd\n",
    "from sklearn.model_selection import train_test_split\n",
    "from sklearn.linear_model import Lasso\n",
    "from sklearn.ensemble import GradientBoostingRegressor\n",
    "from xgboost import XGBRegressor\n",
    "from sklearn.neural_network import MLPRegressor\n",
    "from sklearn.metrics import mean_squared_error, r2_score\n",
    "from sklearn.impute import SimpleImputer\n",
    "\n",
    "\n",
    "# Create a dictionary of models\n",
    "models2 = {\n",
    "    'Lasso Regression': Lasso(alpha=0.1),\n",
    "    'XGBoost': XGBRegressor(n_estimators=100, learning_rate=0.1, max_depth=5, random_state=42),\n",
    "    'Neural Network (MLP)': MLPRegressor(hidden_layer_sizes=(100,), max_iter=500, random_state=42)\n",
    "}\n",
    "\n",
    "# Train and evaluate each model\n",
    "results = {}\n",
    "for name, model in models2.items():\n",
    "    model.fit(X_train, y_train)\n",
    "    y_pred = model.predict(X_test)\n",
    "    mse = mean_squared_error(y_test, y_pred)\n",
    "    r2 = r2_score(y_test, y_pred)\n",
    "    results[name] = {'mse': mse, 'r2': r2, 'predictions': y_pred}\n",
    "\n",
    "# Print the results\n",
    "for name, metrics in results.items():\n",
    "    print(f\"Model: {name}\")\n",
    "    print(f\"  Mean Squared Error: {metrics['mse']}\")\n",
    "    print(f\"  R-squared: {metrics['r2']}\")\n",
    "    print(\"-\" * 20)\n"
   ]
  },
  {
   "cell_type": "code",
   "execution_count": 161,
   "metadata": {
    "colab": {
     "base_uri": "https://localhost:8080/",
     "height": 564
    },
    "id": "u3uopBNvVtLI",
    "outputId": "e9feb3b4-dfdb-47a2-db17-04d3bb32e46d"
   },
   "outputs": [
    {
     "data": {
      "image/png": "[encoded data removed]",
      "text/plain": [
       "<Figure size 1000x600 with 1 Axes>"
      ]
     },
     "metadata": {},
     "output_type": "display_data"
    }
   ],
   "source": [
    "# prompt: give feature importance to the MLP model\n",
    "\n",
    "# Access the MLPRegressor model from the models2 dictionary\n",
    "mlp_model = models2['Neural Network (MLP)']\n",
    "\n",
    "# MLPRegressor does not have a built-in feature_importances_ attribute like tree-based models.\n",
    "# You can use permutation feature importance instead.\n",
    "\n",
    "from sklearn.inspection import permutation_importance\n",
    "\n",
    "result = permutation_importance(mlp_model, X_test, y_test, n_repeats=10, random_state=42, n_jobs=-1)\n",
    "\n",
    "# Get feature importances\n",
    "importances = result.importances_mean\n",
    "\n",
    "# Create a horizontal bar chart of feature importances\n",
    "plt.figure(figsize=(10, 6))\n",
    "plt.barh(X.columns, importances)\n",
    "plt.xlabel(\"Feature Importance (Permutation)\")\n",
    "plt.title(\"MLPRegressor Feature Importance\")\n",
    "plt.show()"
   ]
  },
  {
   "cell_type": "markdown",
   "metadata": {
    "id": "Xty2U1nZMXvi"
   },
   "source": [
    "Quetion2"
   ]
  },
  {
   "cell_type": "code",
   "execution_count": 163,
   "metadata": {
    "colab": {
     "base_uri": "https://localhost:8080/"
    },
    "id": "WyVxoaoXRq1D",
    "outputId": "0683915f-bac8-4583-8ee1-ba19babfaafd"
   },
   "outputs": [
    {
     "data": {
      "text/plain": [
       "array([1, 0])"
      ]
     },
     "execution_count": 163,
     "metadata": {},
     "output_type": "execute_result"
    }
   ],
   "source": [
    "# prompt: unique values in Emergency Department Indicator\n",
    "\n",
    "df['Emergency Department Indicator_Y'].unique()"
   ]
  },
  {
   "cell_type": "code",
   "execution_count": 164,
   "metadata": {
    "colab": {
     "base_uri": "https://localhost:8080/"
    },
    "id": "kQgeg1QvSX_v",
    "outputId": "84dcd4e0-1443-40db-c407-c6049f367fdc"
   },
   "outputs": [
    {
     "name": "stdout",
     "output_type": "stream",
     "text": [
      "Accuracy: 0.946635\n",
      "              precision    recall  f1-score   support\n",
      "\n",
      "           0       0.95      0.90      0.92    145531\n",
      "           1       0.95      0.97      0.96    254469\n",
      "\n",
      "    accuracy                           0.95    400000\n",
      "   macro avg       0.95      0.94      0.94    400000\n",
      "weighted avg       0.95      0.95      0.95    400000\n",
      "\n"
     ]
    }
   ],
   "source": [
    "# prompt: build a knn classifier to classify emergency indicatot_Y\n",
    "\n",
    "from sklearn.neighbors import KNeighborsClassifier\n",
    "from sklearn.model_selection import train_test_split\n",
    "from sklearn.metrics import accuracy_score, classification_report\n",
    "from sklearn.impute import SimpleImputer\n",
    "\n",
    "# Assuming X and y are already defined as in your previous code\n",
    "X = df.drop(columns=['Emergency Department Indicator_Y', 'Emergency Department Indicator_N'])\n",
    "y = df['Emergency Department Indicator_Y']\n",
    "\n",
    "# Split data into training and testing sets\n",
    "X_train, X_test, y_train, y_test = train_test_split(X, y, test_size=0.2, random_state=42)\n",
    "\n",
    "# Impute missing values using SimpleImputer before training the model\n",
    "imputer = SimpleImputer(strategy='mean') # Create an imputer instance\n",
    "X_train = imputer.fit_transform(X_train) # Fit and transform on training data\n",
    "X_test = imputer.transform(X_test) # Transform testing data\n",
    "\n",
    "# Initialize the KNN classifier\n",
    "knn_classifier = KNeighborsClassifier(n_neighbors=5)  # You can adjust the number of neighbors\n",
    "\n",
    "# Train the classifier\n",
    "knn_classifier.fit(X_train, y_train)\n",
    "\n",
    "# Make predictions on the test set\n",
    "y_pred = knn_classifier.predict(X_test)\n",
    "\n",
    "# Evaluate the model\n",
    "accuracy = accuracy_score(y_test, y_pred)\n",
    "print(f\"Accuracy: {accuracy}\")\n",
    "print(classification_report(y_test, y_pred))"
   ]
  },
  {
   "cell_type": "code",
   "execution_count": 165,
   "metadata": {
    "colab": {
     "base_uri": "https://localhost:8080/"
    },
    "id": "MG3qnqv5TldO",
    "outputId": "53a00b77-2682-4f40-a407-d3fc56511d88"
   },
   "outputs": [
    {
     "name": "stdout",
     "output_type": "stream",
     "text": [
      "Accuracy: 0.940015\n",
      "              precision    recall  f1-score   support\n",
      "\n",
      "           0       0.96      0.87      0.91    145531\n",
      "           1       0.93      0.98      0.95    254469\n",
      "\n",
      "    accuracy                           0.94    400000\n",
      "   macro avg       0.94      0.93      0.93    400000\n",
      "weighted avg       0.94      0.94      0.94    400000\n",
      "\n"
     ]
    }
   ],
   "source": [
    "# prompt: build a Logistic regression classifier to classify emergency indicatot_Y\n",
    "\n",
    "from sklearn.linear_model import LogisticRegression\n",
    "from sklearn.metrics import accuracy_score, classification_report\n",
    "from sklearn.model_selection import train_test_split\n",
    "from sklearn.impute import SimpleImputer\n",
    "from sklearn.neighbors import KNeighborsClassifier\n",
    "\n",
    "\n",
    "# Assuming X and y are already defined as in your previous code\n",
    "X = df.drop(columns=['Emergency Department Indicator_Y', 'Emergency Department Indicator_N'])\n",
    "y = df['Emergency Department Indicator_Y']\n",
    "\n",
    "# Split data into training and testing sets\n",
    "X_train, X_test, y_train, y_test = train_test_split(X, y, test_size=0.2, random_state=42)\n",
    "\n",
    "# Impute missing values using SimpleImputer before training the model\n",
    "imputer = SimpleImputer(strategy='mean') # Create an imputer instance\n",
    "X_train = imputer.fit_transform(X_train) # Fit and transform on training data\n",
    "X_test = imputer.transform(X_test) # Transform testing data\n",
    "\n",
    "# Initialize and train the logistic regression model\n",
    "logreg_model = LogisticRegression()\n",
    "logreg_model.fit(X_train, y_train)\n",
    "\n",
    "# Make predictions on the test set\n",
    "y_pred = logreg_model.predict(X_test)\n",
    "\n",
    "# Evaluate the model\n",
    "accuracy = accuracy_score(y_test, y_pred)\n",
    "print(f\"Accuracy: {accuracy}\")\n",
    "print(classification_report(y_test, y_pred))"
   ]
  },
  {
   "cell_type": "code",
   "execution_count": null,
   "metadata": {
    "colab": {
     "base_uri": "https://localhost:8080/"
    },
    "id": "45eaedxYUKnC",
    "outputId": "41207151-2ab9-4b7f-c682-092d6a2ead33"
   },
   "outputs": [],
   "source": [
    "# prompt: build a Neural network\n",
    "#  classifier to classify emergency indicatot_Y\n",
    "\n",
    "from sklearn.neural_network import MLPClassifier\n",
    "from sklearn.metrics import accuracy_score, classification_report\n",
    "from sklearn.impute import SimpleImputer\n",
    "from sklearn.model_selection import train_test_split\n",
    "\n",
    "# Assuming X and y are already defined as in your previous code\n",
    "X = df.drop(columns=['Emergency Department Indicator_Y', 'Emergency Department Indicator_N'])\n",
    "y = df['Emergency Department Indicator_Y']\n",
    "\n",
    "# Split data into training and testing sets\n",
    "X_train, X_test, y_train, y_test = train_test_split(X, y, test_size=0.2, random_state=42)\n",
    "\n",
    "# Impute missing values using SimpleImputer before training the model\n",
    "imputer = SimpleImputer(strategy='mean')\n",
    "X_train = imputer.fit_transform(X_train)\n",
    "X_test = imputer.transform(X_test)\n",
    "\n",
    "# Initialize and train the MLP classifier\n",
    "mlp_classifier = MLPClassifier(hidden_layer_sizes=(100,), max_iter=500, random_state=42) # Adjust hyperparameters as needed\n",
    "mlp_classifier.fit(X_train, y_train)\n",
    "\n",
    "# Make predictions on the test set\n",
    "y_pred = mlp_classifier.predict(X_test)\n",
    "\n",
    "# Evaluate the model\n",
    "accuracy = accuracy_score(y_test, y_pred)\n",
    "print(f\"Accuracy: {accuracy}\")\n",
    "print(classification_report(y_test, y_pred))"
   ]
  },
  {
   "cell_type": "code",
   "execution_count": null,
   "metadata": {
    "colab": {
     "base_uri": "https://localhost:8080/",
     "height": 564
    },
    "id": "w4O1BNmBXpFk",
    "outputId": "5e119a97-c897-4dc2-f64e-fc1398a97ced"
   },
   "outputs": [],
   "source": [
    "# prompt: give feature importance for neural network\n",
    "\n",
    "from sklearn.inspection import permutation_importance\n",
    "from sklearn.neural_network import MLPClassifier\n",
    "from sklearn.neighbors import KNeighborsClassifier\n",
    "from sklearn.linear_model import LogisticRegression\n",
    "from sklearn.metrics import accuracy_score, classification_report\n",
    "\n",
    "# Access the MLPRegressor model from the models2 dictionary (assuming it's already trained)\n",
    "#mlp_model = models2['Neural Network (MLP)'] # This line is causing the error because models2['Neural Network (MLP)'] has 24 features\n",
    "mlp_model = mlp_classifier # mlp_classifier was trained with 23 features in the previous step\n",
    "\n",
    "result = permutation_importance(mlp_model, X_test, y_test, n_repeats=10, random_state=42, n_jobs=-1)\n",
    "\n",
    "# Get feature importances\n",
    "importances = result.importances_mean\n",
    "\n",
    "# Create a horizontal bar chart of feature importances\n",
    "plt.figure(figsize=(10, 6))\n",
    "plt.barh(X.columns, importances)\n",
    "plt.xlabel(\"Feature Importance (Permutation)\")\n",
    "plt.title(\"MLPRegressor Feature Importance\")\n",
    "plt.show()"
   ]
  }
 ],
 "metadata": {
  "colab": {
   "provenance": []
  },
  "kernelspec": {
   "display_name": "Python 3 (ipykernel)",
   "language": "python",
   "name": "python3"
  },
  "language_info": {
   "codemirror_mode": {
    "name": "ipython",
    "version": 3
   },
   "file_extension": ".py",
   "mimetype": "text/x-python",
   "name": "python",
   "nbconvert_exporter": "python",
   "pygments_lexer": "ipython3",
   "version": "3.12.7"
  }
 },
 "nbformat": 4,
 "nbformat_minor": 4
}
